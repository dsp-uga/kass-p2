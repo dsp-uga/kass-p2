{
 "cells": [
  {
   "cell_type": "code",
   "execution_count": 78,
   "id": "graduate-commerce",
   "metadata": {},
   "outputs": [],
   "source": [
    "import pandas as pd\n",
    "import numpy as np"
   ]
  },
  {
   "cell_type": "code",
   "execution_count": 79,
   "id": "familiar-technical",
   "metadata": {},
   "outputs": [],
   "source": [
    "def do_rearrange(set_name):\n",
    "    file = pd.read_csv(f'D:\\Courses\\8360-DSP\\kass-p2\\data\\X{set_name}_test.csv')\n",
    "    original_sequence = np.array(file[\"Face ID\"].tolist())\n",
    "    output = np.loadtxt(f'C:\\\\Users\\\\XPS\\\\Downloads\\\\out_{set_name}.txt')\n",
    "    filenames = np.loadtxt(f'C:\\\\Users\\\\XPS\\\\Downloads\\\\files_out_{set_name}.txt', str)\n",
    "    def stripper(x):\n",
    "        x = x.replace(f'test_{set_name}/', \"\")\n",
    "        x = x.replace(\".jpg\", \"\")\n",
    "        return int(x)\n",
    "    stripper_func = np.vectorize(stripper)\n",
    "    current_sequence = stripper_func(filenames)\n",
    "    new_out_array = []\n",
    "    i = 0\n",
    "    for face in original_sequence:\n",
    "        x = np.where(current_sequence == face)\n",
    "        if len(x[0]) == 1:\n",
    "            idx = x[0][0]\n",
    "            new_out_array.append(str(int(output[idx])))\n",
    "        else:\n",
    "            print(f'id: {i}, face: {face}')\n",
    "            new_out_array.append('0')\n",
    "        i += 1\n",
    "    np.savetxt(f'C:\\\\Users\\\\XPS\\\\Downloads\\\\y{set_name}.txt', np.array(new_out_array), fmt=\"%s\")"
   ]
  },
  {
   "cell_type": "code",
   "execution_count": 80,
   "id": "peaceful-institute",
   "metadata": {},
   "outputs": [
    {
     "name": "stdout",
     "output_type": "stream",
     "text": [
      "id: 17541, face: 453888\n"
     ]
    }
   ],
   "source": [
    "do_rearrange(\"a\")"
   ]
  },
  {
   "cell_type": "code",
   "execution_count": 81,
   "id": "marine-release",
   "metadata": {},
   "outputs": [],
   "source": [
    "do_rearrange(\"b\")"
   ]
  },
  {
   "cell_type": "code",
   "execution_count": 82,
   "id": "executed-haven",
   "metadata": {},
   "outputs": [
    {
     "name": "stdout",
     "output_type": "stream",
     "text": [
      "id: 25401, face: 146457\n"
     ]
    }
   ],
   "source": [
    "do_rearrange(\"c\")\n"
   ]
  }
 ],
 "metadata": {
  "kernelspec": {
   "display_name": "Python 3",
   "language": "python",
   "name": "python3"
  },
  "language_info": {
   "codemirror_mode": {
    "name": "ipython",
    "version": 3
   },
   "file_extension": ".py",
   "mimetype": "text/x-python",
   "name": "python",
   "nbconvert_exporter": "python",
   "pygments_lexer": "ipython3",
   "version": "3.7.9"
  }
 },
 "nbformat": 4,
 "nbformat_minor": 5
}
